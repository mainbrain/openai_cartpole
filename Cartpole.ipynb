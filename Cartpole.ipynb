{
 "cells": [
  {
   "cell_type": "markdown",
   "metadata": {},
   "source": [
    "# Cartpole Challenge"
   ]
  },
  {
   "cell_type": "code",
   "execution_count": 1,
   "metadata": {},
   "outputs": [
    {
     "name": "stderr",
     "output_type": "stream",
     "text": [
      "C:\\Users\\Blup\\Anaconda3\\envs\\tensorflow\\lib\\importlib\\_bootstrap.py:222: RuntimeWarning: numpy.dtype size changed, may indicate binary incompatibility. Expected 96, got 88\n",
      "  return f(*args, **kwds)\n"
     ]
    },
    {
     "name": "stdout",
     "output_type": "stream",
     "text": [
      "curses is not supported on this machine (please install/reinstall curses for an optimal experience)\n",
      "WARN: gym.spaces.Box autodetected dtype as <class 'numpy.float32'>. Please provide explicit dtype.\n"
     ]
    }
   ],
   "source": [
    "import time\n",
    "import gym\n",
    "import random\n",
    "import numpy as np\n",
    "import tflearn\n",
    "from tflearn.layers.core import input_data, dropout, fully_connected\n",
    "from tflearn.layers.estimator import regression\n",
    "from statistics import mean, median\n",
    "from collections import Counter\n",
    "import tensorflow as tf\n",
    "from functools import reduce\n",
    "from tqdm import tqdm\n",
    "\n",
    "\n",
    "import matplotlib.pyplot as plt\n",
    "\n",
    "env = gym.make('CartPole-v0')\n",
    "env.reset()\n",
    "\n",
    "sess = tf.Session()"
   ]
  },
  {
   "cell_type": "markdown",
   "metadata": {},
   "source": [
    "# Create random training Data\n",
    "Create random training data and keep above avarage performing examples."
   ]
  },
  {
   "cell_type": "code",
   "execution_count": 2,
   "metadata": {},
   "outputs": [],
   "source": [
    "def create_training_data(n_games=100, percentile_threshold=75, model=False):\n",
    "    games = []\n",
    "    for iteration in tqdm(range(n_games), mininterval=2, desc=\"create_training_data n_games\"):\n",
    "        #if(iteration % 1000 == 0):\n",
    "        #    print('Training data generation iteration ' + str(iteration) + '/' + str(n_games))\n",
    "        \n",
    "        score = 0\n",
    "        game_data = []\n",
    "        prev_observation = env.reset()\n",
    "        while True:\n",
    "            \n",
    "            if(model):\n",
    "                tflearn.is_training(False, sess)\n",
    "                action = np.argmax(model.predict(prev_observation.reshape(-1, len(prev_observation), 1)) [0])\n",
    "            else:\n",
    "                action = random.randrange(0,2)\n",
    "                \n",
    "            observation, reward, done, info = env.step(action)\n",
    "            \n",
    "            action_one_hot = [0,1] if (action == 1) else [1,0]\n",
    "            game_data.append([prev_observation, action_one_hot])\n",
    "            \n",
    "            prev_observation = observation\n",
    "            \n",
    "            deviation_from_center = np.absolute(observation[0])\n",
    "            score += reward - deviation_from_center\n",
    "            \n",
    "            if done:\n",
    "                break\n",
    "        games.append([score, game_data])\n",
    "        \n",
    "        \n",
    "    #training_data_save = np.array(training_data)\n",
    "    #np.save('saved.npy', training_data_save)\n",
    "\n",
    "    scores = list(map(lambda game: game[0], games))\n",
    "    score_threshold = np.percentile( scores , percentile_threshold)\n",
    "\n",
    "    games = list(filter( (lambda game: game[0]>=score_threshold), games))\n",
    "    training_data_by_game = list(map( (lambda game: game[1]), games))\n",
    "    flat_training_data = reduce(lambda x,y: x+y, training_data_by_game)\n",
    "    \n",
    "    plt.hist(scores, bins=30)\n",
    "    plt.title('Scores for random training data')\n",
    "    plt.axvline(x=score_threshold, color='r')\n",
    "    plt.text(score_threshold,-1,'threshold',rotation=90)\n",
    "\n",
    "    \n",
    "    return flat_training_data\n"
   ]
  },
  {
   "cell_type": "markdown",
   "metadata": {},
   "source": [
    "Executing this should result in a decent training set."
   ]
  },
  {
   "cell_type": "code",
   "execution_count": 3,
   "metadata": {},
   "outputs": [
    {
     "name": "stderr",
     "output_type": "stream",
     "text": [
      "create_training_data n_games: 100%|██████████| 100/100 [00:00<00:00, 2945.71it/s]\n"
     ]
    },
    {
     "data": {
      "image/png": "[encoded data removed]",
      "text/plain": [
       "<Figure size 432x288 with 1 Axes>"
      ]
     },
     "metadata": {},
     "output_type": "display_data"
    }
   ],
   "source": [
    "random_training_data = create_training_data(n_games=100, percentile_threshold=75)"
   ]
  },
  {
   "cell_type": "markdown",
   "metadata": {},
   "source": [
    "# Create the model"
   ]
  },
  {
   "cell_type": "code",
   "execution_count": 4,
   "metadata": {},
   "outputs": [],
   "source": [
    "def create_model(learning_rate=1e-3):\n",
    "    print(\"Creating model\")\n",
    "    \n",
    "    input_size = 4\n",
    "    network = input_data(shape = [None, input_size, 1], name='input')\n",
    "    \n",
    "    network = fully_connected(network, 16, activation='relu')\n",
    "    #network = dropout(network, 0.8)\n",
    "\n",
    "    network = fully_connected(network, 16, activation='relu')\n",
    "    #network = dropout(network, 0.8)\n",
    "\n",
    "\n",
    "    network = fully_connected(network, 2, activation='softmax')\n",
    "    network = regression(network, optimizer='adam', learning_rate=learning_rate, \n",
    "                    loss = 'categorical_crossentropy', name='targets')\n",
    "\n",
    "    model = tflearn.DNN(network, tensorboard_dir='log')\n",
    "    return model"
   ]
  },
  {
   "cell_type": "code",
   "execution_count": 5,
   "metadata": {},
   "outputs": [],
   "source": [
    "def train_model(training_data, model=False, n_epoch=1):\n",
    "    tflearn.is_training(True, sess)\n",
    "    \n",
    "    print(\"Reshaping array\")\n",
    "    X = np.array([i[0] for i in training_data]).reshape(-1, len(training_data[0][0]), 1)\n",
    "    Y = [i[1] for i in training_data]\n",
    "\n",
    "    if not model:\n",
    "        model = create_model()\n",
    "    \n",
    "    print(\"Training model\")\n",
    "    model.fit({'input':X}, {'targets':Y}, n_epoch=n_epoch, snapshot_step=500, show_metric=True,\n",
    "                run_id='fit'+str(int(time.time())))\n",
    "\n",
    "    return model"
   ]
  },
  {
   "cell_type": "code",
   "execution_count": 6,
   "metadata": {},
   "outputs": [
    {
     "name": "stdout",
     "output_type": "stream",
     "text": [
      "Training Step: 1521  | total loss: 0.68066 | time: 23.356s\n",
      "| Adam | epoch: 001 | loss: 0.68066 - acc: 0.5858 -- iter: 97344/97351\n",
      "Training Step: 1522  | total loss: 0.68099 | time: 23.368s\n",
      "| Adam | epoch: 001 | loss: 0.68099 - acc: 0.5834 -- iter: 97351/97351\n",
      "--\n"
     ]
    },
    {
     "data": {
      "image/png": "[encoded data removed]",
      "text/plain": [
       "<Figure size 432x288 with 1 Axes>"
      ]
     },
     "metadata": {},
     "output_type": "display_data"
    }
   ],
   "source": [
    "random_training_data = create_training_data(n_games=10000, percentile_threshold=75)\n",
    "model = create_model(learning_rate=1e-3)\n",
    "model = train_model(random_training_data, model)"
   ]
  },
  {
   "cell_type": "markdown",
   "metadata": {},
   "source": [
    "The optimizer is not able to achieve accuracies over 60% which makes sense since we fed it mostly random data.\n",
    "On next iterations the DNN should be able to reproduce the results of all runs with a score above the 75 percentile."
   ]
  },
  {
   "cell_type": "code",
   "execution_count": 7,
   "metadata": {},
   "outputs": [
    {
     "name": "stdout",
     "output_type": "stream",
     "text": [
      "Training Step: 6210  | total loss: 0.04217 | time: 22.242s\n",
      "| Adam | epoch: 004 | loss: 0.04217 - acc: 0.9933 -- iter: 099968/100000\n",
      "Training Step: 6211  | total loss: 0.04204 | time: 22.257s\n",
      "| Adam | epoch: 004 | loss: 0.04204 - acc: 0.9940 -- iter: 100000/100000\n",
      "--\n"
     ]
    },
    {
     "data": {
      "image/png": "[encoded data removed]",
      "text/plain": [
       "<Figure size 432x288 with 1 Axes>"
      ]
     },
     "metadata": {},
     "output_type": "display_data"
    }
   ],
   "source": [
    "for _ in range(3):\n",
    "    training_data = create_training_data(n_games=1000, percentile_threshold=50, model=model)\n",
    "    model = train_model(training_data, model)"
   ]
  },
  {
   "cell_type": "markdown",
   "metadata": {},
   "source": [
    "Two strange results:\n",
    "* The model is not only reproducing the mediocre attempts but is significantly better. I would have expected results close to the 75 percentile of the first attempt, which should have scored around 30 and 40 and not around 180.\n",
    "* Feeding the net further with the best attempts of previous runs does not improve the model. I seem to have hit a wall here.\n",
    "\n",
    "Interpretation:\n",
    "* 99% accuracy means I'm able to fit the training data. So I'd say there are no bias problems. \n",
    "* The model is not able to score well on test time which I'd interpret as a variance problem. \n",
    " * More training data. Maybe put all 200 scoring runs into a bucket and train on them instead of X percentile of previous runs.\n",
    " * Regularization techniques like dropout and L2\n",
    "* Model size seems to be sufficient at first glance. Otherwise it wouldnt be able to fit so well. Maybe introducing dropout will force me to increase my model size."
   ]
  },
  {
   "cell_type": "code",
   "execution_count": 9,
   "metadata": {},
   "outputs": [],
   "source": []
  },
  {
   "cell_type": "code",
   "execution_count": null,
   "metadata": {},
   "outputs": [],
   "source": []
  }
 ],
 "metadata": {
  "kernelspec": {
   "display_name": "Python 3",
   "language": "python",
   "name": "python3"
  },
  "language_info": {
   "codemirror_mode": {
    "name": "ipython",
    "version": 3
   },
   "file_extension": ".py",
   "mimetype": "text/x-python",
   "name": "python",
   "nbconvert_exporter": "python",
   "pygments_lexer": "ipython3",
   "version": "3.5.5"
  }
 },
 "nbformat": 4,
 "nbformat_minor": 2
}
