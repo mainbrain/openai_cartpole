{
 "cells": [
  {
   "cell_type": "markdown",
   "metadata": {},
   "source": [
    "# Cartpole Challenge"
   ]
  },
  {
   "cell_type": "code",
   "execution_count": 1,
   "metadata": {},
   "outputs": [
    {
     "name": "stderr",
     "output_type": "stream",
     "text": [
      "C:\\Users\\Blup\\Anaconda3\\envs\\tensorflow\\lib\\importlib\\_bootstrap.py:222: RuntimeWarning: numpy.dtype size changed, may indicate binary incompatibility. Expected 96, got 88\n",
      "  return f(*args, **kwds)\n"
     ]
    },
    {
     "name": "stdout",
     "output_type": "stream",
     "text": [
      "curses is not supported on this machine (please install/reinstall curses for an optimal experience)\n",
      "\u001b[33mWARN: gym.spaces.Box autodetected dtype as <class 'numpy.float32'>. Please provide explicit dtype.\u001b[0m\n"
     ]
    },
    {
     "data": {
      "text/plain": [
       "array([-0.00246717,  0.03947352, -0.03847333,  0.04343706])"
      ]
     },
     "execution_count": 1,
     "metadata": {},
     "output_type": "execute_result"
    }
   ],
   "source": [
    "import gym\n",
    "import random\n",
    "import numpy as np\n",
    "import tflearn\n",
    "from tflearn.layers.core import input_data, dropout, fully_connected\n",
    "from tflearn.layers.estimator import regression\n",
    "from statistics import mean, median\n",
    "from collections import Counter\n",
    "import tensorflow as tf\n",
    "from functools import reduce\n",
    "\n",
    "\n",
    "import matplotlib.pyplot as plt\n",
    "\n",
    "env = gym.make('CartPole-v0')\n",
    "env.reset()"
   ]
  },
  {
   "cell_type": "markdown",
   "metadata": {},
   "source": [
    "# Create random training Data\n",
    "Create random training data and keep above avarage performing examples."
   ]
  },
  {
   "cell_type": "code",
   "execution_count": 2,
   "metadata": {},
   "outputs": [],
   "source": [
    "def create_random_training_data(n_games=100, percentile_threshold=75):\n",
    "    games = []\n",
    "    for iteration in range(n_games):\n",
    "        if(iteration % 10000 == 0):\n",
    "            print('Random data generation iteration ' + str(iteration) + '/' + str(n_games))\n",
    "        \n",
    "        score = 0\n",
    "        game_data = []\n",
    "        prev_observation = env.reset()\n",
    "        while True:\n",
    "            action = random.randrange(0,2)\n",
    "            observation, reward, done, info = env.step(action)\n",
    "            \n",
    "            action_one_hot = [0,1] if (action == 1) else [1,0]\n",
    "            game_data.append([prev_observation, action_one_hot])\n",
    "            \n",
    "            prev_observation = observation\n",
    "            \n",
    "            deviation_from_center = np.absolute(observation[0])\n",
    "            score += reward - deviation_from_center\n",
    "            \n",
    "            if done:\n",
    "                break\n",
    "        games.append([score, game_data])\n",
    "        \n",
    "        \n",
    "    #training_data_save = np.array(training_data)\n",
    "    #np.save('saved.npy', training_data_save)\n",
    "\n",
    "    scores = list(map(lambda game: game[0], games))\n",
    "    score_threshold = np.percentile( scores , percentile_threshold)\n",
    "\n",
    "    games = list(filter( (lambda game: game[0]>=score_threshold), games))\n",
    "    training_data_by_game = list(map( (lambda game: game[1]), games))\n",
    "    flat_training_data = reduce(lambda x,y: x+y, training_data_by_game)\n",
    "    \n",
    "    plt.hist(scores, bins=30)\n",
    "    plt.title('Scores for random training data')\n",
    "    plt.axvline(x=score_threshold, color='r')\n",
    "    plt.text(score_threshold,-1,'threshold',rotation=90)\n",
    "\n",
    "    \n",
    "    return flat_training_data\n"
   ]
  },
  {
   "cell_type": "markdown",
   "metadata": {},
   "source": [
    "Executing this should result in a decent training set."
   ]
  },
  {
   "cell_type": "code",
   "execution_count": 3,
   "metadata": {},
   "outputs": [
    {
     "name": "stdout",
     "output_type": "stream",
     "text": [
      "Random data generation iteration 0/100\n"
     ]
    },
    {
     "data": {
      "image/png": "[encoded data removed]",
      "text/plain": [
       "<Figure size 432x288 with 1 Axes>"
      ]
     },
     "metadata": {},
     "output_type": "display_data"
    }
   ],
   "source": [
    "random_training_data = create_random_training_data(n_games=100, percentile_threshold=75)"
   ]
  },
  {
   "cell_type": "markdown",
   "metadata": {},
   "source": [
    "# Create the model"
   ]
  },
  {
   "cell_type": "code",
   "execution_count": 4,
   "metadata": {},
   "outputs": [],
   "source": [
    "def create_model(learning_rate=1e-3):\n",
    "    print(\"Creating model\")\n",
    "    \n",
    "    input_size = 4\n",
    "    network = input_data(shape = [None, input_size, 1], name='input')\n",
    "    \n",
    "    network = fully_connected(network, 16, activation='relu')\n",
    "    #network = dropout(network, 0.8)\n",
    "\n",
    "    network = fully_connected(network, 16, activation='relu')\n",
    "    #network = dropout(network, 0.8)\n",
    "\n",
    "\n",
    "    network = fully_connected(network, 2, activation='softmax')\n",
    "    network = regression(network, optimizer='adam', learning_rate=learning_rate, \n",
    "                    loss = 'categorical_crossentropy', name='targets')\n",
    "\n",
    "    model = tflearn.DNN(network, tensorboard_dir='log')\n",
    "    return model"
   ]
  },
  {
   "cell_type": "code",
   "execution_count": 5,
   "metadata": {},
   "outputs": [],
   "source": [
    "def train_model(training_data, model=False):\n",
    "    print(\"Reshaping array\")\n",
    "    X = np.array([i[0] for i in training_data]).reshape(-1, len(training_data[0][0]), 1)\n",
    "    Y = [i[1] for i in training_data]\n",
    "\n",
    "    if not model:\n",
    "        model = create_model()\n",
    "    \n",
    "    print(\"Training model\")\n",
    "    model.fit({'input':X}, {'targets':Y}, n_epoch=5, snapshot_step=500, show_metric=True,\n",
    "                run_id='openaistuff')\n",
    "\n",
    "    return model"
   ]
  },
  {
   "cell_type": "code",
   "execution_count": 6,
   "metadata": {},
   "outputs": [
    {
     "name": "stdout",
     "output_type": "stream",
     "text": [
      "Training Step: 7559  | total loss: \u001b[1m\u001b[32m0.66288\u001b[0m\u001b[0m | time: 19.292s\n",
      "| Adam | epoch: 005 | loss: 0.66288 - acc: 0.5770 -- iter: 96704/96752\n",
      "Training Step: 7560  | total loss: \u001b[1m\u001b[32m0.66040\u001b[0m\u001b[0m | time: 19.301s\n",
      "| Adam | epoch: 005 | loss: 0.66040 - acc: 0.5880 -- iter: 96752/96752\n",
      "--\n"
     ]
    },
    {
     "data": {
      "image/png": "[encoded data removed]",
      "text/plain": [
       "<Figure size 432x288 with 1 Axes>"
      ]
     },
     "metadata": {},
     "output_type": "display_data"
    }
   ],
   "source": [
    "random_training_data = create_random_training_data(n_games=10000, percentile_threshold=75)\n",
    "model = train_model(random_training_data)"
   ]
  },
  {
   "cell_type": "code",
   "execution_count": null,
   "metadata": {},
   "outputs": [],
   "source": []
  }
 ],
 "metadata": {
  "kernelspec": {
   "display_name": "Python 3",
   "language": "python",
   "name": "python3"
  },
  "language_info": {
   "codemirror_mode": {
    "name": "ipython",
    "version": 3
   },
   "file_extension": ".py",
   "mimetype": "text/x-python",
   "name": "python",
   "nbconvert_exporter": "python",
   "pygments_lexer": "ipython3",
   "version": "3.5.5"
  }
 },
 "nbformat": 4,
 "nbformat_minor": 2
}
