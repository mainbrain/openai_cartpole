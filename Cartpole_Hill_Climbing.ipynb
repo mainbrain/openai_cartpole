{
 "cells": [
  {
   "cell_type": "code",
   "execution_count": 1,
   "metadata": {},
   "outputs": [],
   "source": [
    "import time\n",
    "import gym\n",
    "import random\n",
    "import numpy as np\n",
    "from statistics import mean, median\n",
    "from collections import Counter\n",
    "from functools import reduce\n",
    "from tqdm import tqdm\n",
    "import matplotlib.pyplot as plt"
   ]
  },
  {
   "cell_type": "code",
   "execution_count": 2,
   "metadata": {},
   "outputs": [
    {
     "name": "stdout",
     "output_type": "stream",
     "text": [
      "WARN: gym.spaces.Box autodetected dtype as <class 'numpy.float32'>. Please provide explicit dtype.\n"
     ]
    }
   ],
   "source": [
    "env = gym.make('CartPole-v0')\n"
   ]
  },
  {
   "cell_type": "code",
   "execution_count": 3,
   "metadata": {},
   "outputs": [],
   "source": [
    "def run_episode(env, parameters):  \n",
    "    observation = env.reset()\n",
    "    totalreward = 0\n",
    "    for _ in range(200):\n",
    "        action = 0 if np.matmul(parameters,observation) < 0 else 1\n",
    "        observation, reward, done, info = env.step(action)\n",
    "        totalreward += reward\n",
    "        if done:\n",
    "            break\n",
    "    return totalreward"
   ]
  },
  {
   "cell_type": "code",
   "execution_count": 4,
   "metadata": {},
   "outputs": [],
   "source": [
    "def hill_climbing():\n",
    "    noise_scaling = 0.1  \n",
    "    \n",
    "    # Totalling episode * step tries\n",
    "    for episode in range(1):\n",
    "        parameters = np.random.rand(4) * 2 - 1  \n",
    "        bestreward = 0  \n",
    "\n",
    "        for step in range(10000):  \n",
    "            newparams = parameters + (np.random.rand(4) * 2 - 1)*noise_scaling\n",
    "            reward = run_episode(env,newparams)\n",
    "            if reward > bestreward:\n",
    "                bestreward = reward\n",
    "                parameters = newparams\n",
    "                if reward == 200:\n",
    "                    break\n",
    "    # return how often run_episode() was called                \n",
    "    return (episode+1)*(step+1)"
   ]
  },
  {
   "cell_type": "code",
   "execution_count": 5,
   "metadata": {},
   "outputs": [
    {
     "name": "stderr",
     "output_type": "stream",
     "text": [
      "evaluating method: 100%|██████████| 10000/10000 [2:03:47<00:00,  1.35it/s] \n"
     ]
    }
   ],
   "source": [
    "scores = []\n",
    "\n",
    "for _ in tqdm(range(10000), mininterval=2, desc=\"evaluating method\"):\n",
    "    score = hill_climbing()\n",
    "    scores.append(score)\n"
   ]
  },
  {
   "cell_type": "code",
   "execution_count": 6,
   "metadata": {},
   "outputs": [
    {
     "name": "stdout",
     "output_type": "stream",
     "text": [
      "mean 5445.9591 median 10000.0 max 10000 min 1\n"
     ]
    },
    {
     "data": {
      "image/png": "[encoded data removed]",
      "text/plain": [
       "<Figure size 432x288 with 1 Axes>"
      ]
     },
     "metadata": {},
     "output_type": "display_data"
    }
   ],
   "source": [
    "plt.hist(scores, bins=30)\n",
    "plt.title('Scores')\n",
    "print('mean', mean(scores), 'median', median(scores), 'max', np.max(scores), 'min', np.min(scores))"
   ]
  },
  {
   "cell_type": "markdown",
   "metadata": {},
   "source": [
    "# Done\n",
    "Hill climbing is pretty bad for this problem. Most runs get stuck in local minima and can't recover until max iterations is reached."
   ]
  },
  {
   "cell_type": "code",
   "execution_count": null,
   "metadata": {},
   "outputs": [],
   "source": []
  }
 ],
 "metadata": {
  "kernelspec": {
   "display_name": "Python 3",
   "language": "python",
   "name": "python3"
  },
  "language_info": {
   "codemirror_mode": {
    "name": "ipython",
    "version": 3
   },
   "file_extension": ".py",
   "mimetype": "text/x-python",
   "name": "python",
   "nbconvert_exporter": "python",
   "pygments_lexer": "ipython3",
   "version": "3.5.5"
  }
 },
 "nbformat": 4,
 "nbformat_minor": 2
}
