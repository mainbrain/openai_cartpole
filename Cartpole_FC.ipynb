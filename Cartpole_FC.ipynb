{
 "cells": [
  {
   "cell_type": "markdown",
   "metadata": {},
   "source": [
    "## Cartpole Challenge\n",
    "\n",
    "Trying a fully connected neural net for the cart pole challenge. I am curious if current data is enough to perform well enough or if this is a problem where an RNN would be a better choice."
   ]
  },
  {
   "cell_type": "code",
   "execution_count": 1,
   "metadata": {},
   "outputs": [
    {
     "name": "stdout",
     "output_type": "stream",
     "text": [
      "curses is not supported on this machine (please install/reinstall curses for an optimal experience)\n"
     ]
    }
   ],
   "source": [
    "import time\n",
    "import gym\n",
    "import random\n",
    "import numpy as np\n",
    "import tflearn\n",
    "from tflearn.layers.core import input_data, dropout, fully_connected\n",
    "from tflearn.layers.estimator import regression\n",
    "from statistics import mean, median\n",
    "from collections import Counter\n",
    "import tensorflow as tf\n",
    "from functools import reduce\n",
    "from tqdm import tqdm\n",
    "import matplotlib.pyplot as plt"
   ]
  },
  {
   "cell_type": "code",
   "execution_count": 2,
   "metadata": {},
   "outputs": [
    {
     "name": "stdout",
     "output_type": "stream",
     "text": [
      "WARN: gym.spaces.Box autodetected dtype as <class 'numpy.float32'>. Please provide explicit dtype.\n"
     ]
    }
   ],
   "source": [
    "env = gym.make('CartPole-v0')\n",
    "env.reset()\n",
    "\n",
    "sess = tf.Session()\n",
    "#sess = tf.InteractiveSession()"
   ]
  },
  {
   "cell_type": "markdown",
   "metadata": {},
   "source": [
    "# Create random training Data\n",
    "Create random training data. Keep above avarage performing examples."
   ]
  },
  {
   "cell_type": "code",
   "execution_count": 3,
   "metadata": {},
   "outputs": [],
   "source": [
    "def flatten_game_data(games):\n",
    "    if len(games) > 0:\n",
    "        training_data_by_game = list(map( (lambda game: game[1]), games))\n",
    "        flat_training_data = reduce(lambda x,y: x+y, training_data_by_game)\n",
    "        return flat_training_data\n",
    "\n",
    "def append_to_file(flat_games):\n",
    "    print(\"type \", type(flat_games), \"len \", len(flat_games))\n",
    "    if np.DataSource().exists('max_scoring_games.npy'):\n",
    "        all_max_games = np.load('max_scoring_games.npy') \n",
    "    else:\n",
    "        all_max_games = [] \n",
    "    all_max_games = np.append(all_max_games, flat_games)\n",
    "    print(\"type \", type(all_max_games), \"len \", len(all_max_games))\n",
    "    np.save('max_scoring_games.npy', all_max_games)       \n",
    "    \n",
    "def create_training_data(n_games=100, percentile_threshold=75, model=False):\n",
    "    games = []\n",
    "    for iteration in tqdm(range(n_games), mininterval=2, desc=\"create_training_data n_games\"):\n",
    "\n",
    "        score = 0\n",
    "        game_data = []\n",
    "        prev_observation = env.reset()\n",
    "        while True:\n",
    "            \n",
    "            if(model):\n",
    "                tflearn.is_training(False, sess)\n",
    "                action = np.argmax(model.predict(prev_observation.reshape(-1, len(prev_observation), 1)) [0])\n",
    "            else:\n",
    "                action = random.randrange(0,2)\n",
    "                \n",
    "            observation, reward, done, info = env.step(action)\n",
    "            \n",
    "            action_one_hot = [0,1] if (action == 1) else [1,0]\n",
    "            game_data.append([prev_observation, action_one_hot])\n",
    "            \n",
    "            prev_observation = observation\n",
    "            \n",
    "            deviation_from_center = np.absolute(observation[0])\n",
    "            score += reward - deviation_from_center\n",
    "            \n",
    "            if done:\n",
    "                break\n",
    "        games.append([score, game_data])\n",
    "        \n",
    "    scores = list(map(lambda game: game[0], games))\n",
    "    score_threshold = np.percentile( scores , percentile_threshold)\n",
    "\n",
    "    games = list(filter( (lambda game: game[0]>=score_threshold), games))\n",
    "    flat_training_data = flatten_game_data(games)\n",
    "    \n",
    "    plt.hist(scores, bins=30)\n",
    "    plt.title('Scores for random training data')\n",
    "    plt.axvline(x=score_threshold, color='r')\n",
    "    plt.text(score_threshold,-1,'threshold',rotation=90)\n",
    "\n",
    "    # special case for max scoring games ... theoretical max score is 200 but I added a penalty for diverging from the center of the playing field so ...\n",
    "    max_score = 195\n",
    "    max_games = list(filter( (lambda game: game[0]>=max_score), games))\n",
    "    if(len(max_games) > 0):\n",
    "        append_to_file(flatten_game_data(max_games))    \n",
    "    \n",
    "    return flat_training_data\n"
   ]
  },
  {
   "cell_type": "markdown",
   "metadata": {},
   "source": [
    "Executing this should result in a decent training set."
   ]
  },
  {
   "cell_type": "code",
   "execution_count": 4,
   "metadata": {},
   "outputs": [
    {
     "name": "stderr",
     "output_type": "stream",
     "text": [
      "create_training_data n_games: 100%|██████████| 100/100 [00:00<00:00, 2785.36it/s]\n"
     ]
    },
    {
     "data": {
      "image/png": "[encoded data removed]",
      "text/plain": [
       "<Figure size 432x288 with 1 Axes>"
      ]
     },
     "metadata": {},
     "output_type": "display_data"
    }
   ],
   "source": [
    "random_training_data = create_training_data(n_games=100, percentile_threshold=75)"
   ]
  },
  {
   "cell_type": "markdown",
   "metadata": {},
   "source": [
    "# Create the model"
   ]
  },
  {
   "cell_type": "code",
   "execution_count": 10,
   "metadata": {},
   "outputs": [],
   "source": [
    "def create_model(learning_rate=1e-3):\n",
    "    print(\"Creating model\")\n",
    "    \n",
    "    input_size = 4\n",
    "    network = input_data(shape = [None, input_size, 1], name='input')\n",
    "    \n",
    "    network = fully_connected(network, 32, activation='relu')\n",
    "    #network = dropout(network, 0.8)\n",
    "\n",
    "    network = fully_connected(network, 32, activation='relu')\n",
    "    #network = dropout(network, 0.8)\n",
    "\n",
    "    network = fully_connected(network, 32, activation='relu')\n",
    "    #network = dropout(network, 0.8)\n",
    "\n",
    "    output_size = 2\n",
    "    network = fully_connected(network, output_size, activation='softmax')\n",
    "    network = regression(network, optimizer='adam', learning_rate=learning_rate, loss = 'categorical_crossentropy', name='targets')\n",
    "\n",
    "    model = tflearn.DNN(network, tensorboard_dir='log')\n",
    "    return model"
   ]
  },
  {
   "cell_type": "code",
   "execution_count": 11,
   "metadata": {},
   "outputs": [],
   "source": [
    "def train_model(training_data, model=False, n_epoch=1):\n",
    "    tflearn.is_training(True, sess)\n",
    "    \n",
    "    #print(\"Reshaping array with shape \", training_data.shape)\n",
    "    dim_x = len(training_data[0][0])\n",
    "    #dim_x = \"?\"\n",
    "    dim_y = len(training_data[0][1])\n",
    "    #dim_y = \"?\"\n",
    "    m = len(training_data)\n",
    "    print(\"Reshaping array with shape \", m, len(training_data[0]), dim_x, dim_y, \"typeX\", type(training_data[0][0][0]))\n",
    "    X = np.array([i[0] for i in training_data]).reshape(-1, len(training_data[0][0]), 1)\n",
    "    Y = [i[1] for i in training_data]\n",
    "    print(\"shape x\", X.shape)\n",
    "    print(\"shepe y\", len(Y), len(Y[0]))\n",
    "\n",
    "    if not model:\n",
    "        model = create_model()\n",
    "    \n",
    "    print(\"Training model\")\n",
    "    model.fit({'input':X}, {'targets':Y}, n_epoch=n_epoch, snapshot_step=500, show_metric=True,\n",
    "                run_id='fit'+str(int(time.time())))\n",
    "\n",
    "    return model"
   ]
  },
  {
   "cell_type": "code",
   "execution_count": 7,
   "metadata": {},
   "outputs": [
    {
     "name": "stdout",
     "output_type": "stream",
     "text": [
      "Creating model\n",
      "WARNING:tensorflow:From C:\\Users\\Blup\\Anaconda3\\envs\\tensorflow\\lib\\site-packages\\tflearn\\objectives.py:66: calling reduce_sum (from tensorflow.python.ops.math_ops) with keep_dims is deprecated and will be removed in a future version.\n",
      "Instructions for updating:\n",
      "keep_dims is deprecated, use keepdims instead\n"
     ]
    }
   ],
   "source": [
    "model = create_model(learning_rate=1e-3)"
   ]
  },
  {
   "cell_type": "code",
   "execution_count": 8,
   "metadata": {},
   "outputs": [
    {
     "name": "stdout",
     "output_type": "stream",
     "text": [
      "Training Step: 144  | total loss: 0.69094 | time: 1.212s\n",
      "| Adam | epoch: 001 | loss: 0.69094 - acc: 0.5477 -- iter: 9216/9250\n",
      "Training Step: 145  | total loss: 0.69089 | time: 1.218s\n",
      "| Adam | epoch: 001 | loss: 0.69089 - acc: 0.5398 -- iter: 9250/9250\n",
      "--\n"
     ]
    },
    {
     "data": {
      "image/png": "[encoded data removed]",
      "text/plain": [
       "<Figure size 432x288 with 1 Axes>"
      ]
     },
     "metadata": {},
     "output_type": "display_data"
    }
   ],
   "source": [
    "random_training_data = create_training_data(n_games=1000, percentile_threshold=75)\n",
    "model = train_model(random_training_data, model)"
   ]
  },
  {
   "cell_type": "markdown",
   "metadata": {},
   "source": [
    "The ADAM optimizer is not able to achieve accuracies over 60% which makes sense since we fed it mostly random data.\n",
    "On next iterations the DNN should be able to reproduce the results of all runs with a score above the 75 percentile."
   ]
  },
  {
   "cell_type": "code",
   "execution_count": 9,
   "metadata": {},
   "outputs": [
    {
     "name": "stdout",
     "output_type": "stream",
     "text": [
      "Training Step: 2307  | total loss: 0.02251 | time: 4.721s\n",
      "| Adam | epoch: 004 | loss: 0.02251 - acc: 0.9897 -- iter: 46144/46177\n",
      "Training Step: 2308  | total loss: 0.02461 | time: 4.732s\n",
      "| Adam | epoch: 004 | loss: 0.02461 - acc: 0.9876 -- iter: 46177/46177\n",
      "--\n"
     ]
    },
    {
     "data": {
      "image/png": "[encoded data removed]",
      "text/plain": [
       "<Figure size 432x288 with 1 Axes>"
      ]
     },
     "metadata": {},
     "output_type": "display_data"
    }
   ],
   "source": [
    "for _ in range(3):\n",
    "    training_data = create_training_data(n_games=1000, percentile_threshold=50, model=model)\n",
    "    model = train_model(training_data, model)"
   ]
  },
  {
   "cell_type": "markdown",
   "metadata": {},
   "source": [
    "Two strange results:\n",
    "* The model performs significantly better than the training data. I would have expected results close to the 75 percentile of the first attempt, which should have scored around 30 and 40 and not around 180.\n",
    "* Feeding the net further with the best attempts of previous runs does not improve the model. I seem to have hit a wall here.\n",
    "\n",
    "Interpretation:\n",
    "* 99% accuracy means I'm able to fit the training data. So I'd say there are no bias problems. \n",
    "* The model is not able to score well on test time which I'd interpret as a variance problem. \n",
    " * More training data. Maybe put all 200 scoring runs into a bucket and train on them instead of X percentile of previous runs.\n",
    " * Regularization techniques like dropout and L2\n",
    "* Model size seems to be sufficient at first glance. Otherwise it wouldnt be able to fit so well. Maybe introducing dropout will force me to increase my model size.\n",
    "* I will not yet succumb to the call of RNN ;)"
   ]
  },
  {
   "cell_type": "code",
   "execution_count": 12,
   "metadata": {},
   "outputs": [],
   "source": [
    "# I got the dimensions really wonky in the beginning so I have to do some serious fixing here\n",
    "def load_training_data():    \n",
    "    print(\"Loading file\")\n",
    "    if np.DataSource().exists('max_scoring_games.npy'):\n",
    "        data= np.load('max_scoring_games.npy')\n",
    "        data = data.reshape(int(len(data)/2),2)\n",
    "        data = [  [i[0], i[1]]  for i in data]\n",
    "        return data\n",
    "    else:\n",
    "        return []\n",
    "\n",
    "def load_and_merge_training_data(training_data):\n",
    "    all_max_games = load_training_data()\n",
    "    print('using ', len(all_max_games), ' max scoring moves from previous runs to train the net')\n",
    "    \n",
    "    #print(training_data[0], len(training_data), type(training_data))\n",
    "    #print(\"yyyyyyyyyyyyyyyyyyyyyyyy\")\n",
    "    #print(all_max_games[0], len(all_max_games), type(all_max_games))\n",
    "    #print(\"yyyyyyyyyyyyyyyyyyyyyyyy\")\n",
    "\n",
    "    training_data = np.append(training_data, all_max_games)\n",
    "    training_data = training_data.reshape(int( len(training_data)/2),2)\n",
    "    training_data = [  [i[0], i[1]]  for i in training_data]\n",
    "\n",
    "    \n",
    "    #print(training_data[0], training_data[1], len(training_data), type(training_data))\n",
    "    \n",
    "    return training_data"
   ]
  },
  {
   "cell_type": "markdown",
   "metadata": {},
   "source": [
    "Now do the same but add more data by using all previously achieved max scoring games. Successively calling these lines should result in a growing file with perfect scores."
   ]
  },
  {
   "cell_type": "code",
   "execution_count": 14,
   "metadata": {},
   "outputs": [
    {
     "name": "stdout",
     "output_type": "stream",
     "text": [
      "Training Step: 15587  | total loss: 0.14937 | time: 15.477s\n",
      "| Adam | epoch: 010 | loss: 0.14937 - acc: 0.9568 -- iter: 167360/167400\n",
      "Training Step: 15588  | total loss: 0.14953 | time: 15.482s\n",
      "| Adam | epoch: 010 | loss: 0.14953 - acc: 0.9564 -- iter: 167400/167400\n",
      "--\n"
     ]
    },
    {
     "data": {
      "image/png": "[encoded data removed]",
      "text/plain": [
       "<Figure size 432x288 with 1 Axes>"
      ]
     },
     "metadata": {},
     "output_type": "display_data"
    }
   ],
   "source": [
    "for _ in range(3):\n",
    "    training_data = create_training_data(n_games=1000, percentile_threshold=90, model=model)\n",
    "    training_data = load_and_merge_training_data(training_data)\n",
    "    model = train_model(training_data, model)"
   ]
  },
  {
   "cell_type": "markdown",
   "metadata": {},
   "source": [
    "More data really helped. After 6 epochs the NN has gradually improved. "
   ]
  },
  {
   "cell_type": "code",
   "execution_count": null,
   "metadata": {},
   "outputs": [],
   "source": []
  }
 ],
 "metadata": {
  "kernelspec": {
   "display_name": "Python 3",
   "language": "python",
   "name": "python3"
  },
  "language_info": {
   "codemirror_mode": {
    "name": "ipython",
    "version": 3
   },
   "file_extension": ".py",
   "mimetype": "text/x-python",
   "name": "python",
   "nbconvert_exporter": "python",
   "pygments_lexer": "ipython3",
   "version": "3.5.5"
  }
 },
 "nbformat": 4,
 "nbformat_minor": 2
}
